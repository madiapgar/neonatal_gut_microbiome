{
 "cells": [
  {
   "cell_type": "markdown",
   "id": "eed042b0",
   "metadata": {},
   "source": [
    "## bringing FASTA files (barcode and sequences) and metadata table in to demultiplex \n",
    "## reading them in from a folder on the desktop (no spaces allowed in names), have to be the only files in the folder, and have to be titled \"sequences\" and \"barcodes\" \n",
    "## output path is the same as input but with .qza on the end "
   ]
  },
  {
   "cell_type": "code",
   "execution_count": 17,
   "id": "24dbea93",
   "metadata": {},
   "outputs": [
    {
     "name": "stdout",
     "output_type": "stream",
     "text": [
      "\u001b[32mImported /Users/madiapgar/Desktop/qiimework/MG as EMPSingleEndDirFmt to /Users/madiapgar/Desktop/qiimework/MG.qza\u001b[0m\n",
      "\u001b[0m"
     ]
    }
   ],
   "source": [
    "## importing files from a desktop folder and converting to a .qza\n",
    "! qiime tools import \\\n",
    "--type EMPSingleEndSequences \\\n",
    "--input-path /Users/madiapgar/Desktop/qiimework/MG \\\n",
    "--output-path /Users/madiapgar/Desktop/qiimework/MG.qza"
   ]
  },
  {
   "cell_type": "code",
   "execution_count": 9,
   "id": "338c667f",
   "metadata": {},
   "outputs": [
    {
     "name": "stdout",
     "output_type": "stream",
     "text": [
      "/Users/madiapgar/neonatal-gut-microbiome\r\n"
     ]
    }
   ],
   "source": [
    "! pwd"
   ]
  },
  {
   "cell_type": "code",
   "execution_count": 18,
   "id": "a699f262",
   "metadata": {},
   "outputs": [
    {
     "name": "stdout",
     "output_type": "stream",
     "text": [
      "\u001b[32mSaved SampleData[SequencesWithQuality] to: demux_MG.qza\u001b[0m\n",
      "\u001b[32mSaved ErrorCorrectionDetails to: demux_MG-details.qza\u001b[0m\n",
      "\u001b[0m"
     ]
    }
   ],
   "source": [
    "## now we can demultiplex everything\n",
    "## i-seqs is the qza file we put the sequences and barcodes in \n",
    "## m-barcodes is the metadata file/table that we created via excel\n",
    "## still need to include pathway to files since they're on desktop and not in this directory\n",
    "! qiime demux emp-single \\\n",
    "--i-seqs /Users/madiapgar/Desktop/qiimework/MG.qza \\\n",
    "--m-barcodes-file /Users/madiapgar/Desktop/qiimework/MG-barcode.txt \\\n",
    "--m-barcodes-column barcode_sequence \\\n",
    "--o-per-sample-sequences demux_MG.qza \\\n",
    "--o-error-correction-details demux_MG-details.qza \\\n",
    "--p-no-golay-error-correction"
   ]
  },
  {
   "cell_type": "code",
   "execution_count": 19,
   "id": "2c4dd434",
   "metadata": {},
   "outputs": [
    {
     "name": "stdout",
     "output_type": "stream",
     "text": [
      "\u001b[32mSaved Visualization to: demux_MG.qzv\u001b[0m\n",
      "\u001b[0m"
     ]
    }
   ],
   "source": [
    "## creating the summarization of demultiplexing that I can actually look at \n",
    "! qiime demux summarize \\\n",
    "--i-data demux_MG.qza \\\n",
    "--o-visualization demux_MG.qzv"
   ]
  },
  {
   "cell_type": "code",
   "execution_count": 20,
   "id": "9b483e68",
   "metadata": {
    "scrolled": true
   },
   "outputs": [
    {
     "name": "stdout",
     "output_type": "stream",
     "text": [
      "Press the 'q' key, Control-C, or Control-D to quit. This view may no longer be accessible or work correctly after quitting.\n",
      "Press the 'q' key, Control-C, or Control-D to quit. This view may no longer be accessible or work correctly after quitting."
     ]
    }
   ],
   "source": [
    "! qiime tools view demux_MG.qzv"
   ]
  },
  {
   "cell_type": "markdown",
   "id": "18e957c2",
   "metadata": {},
   "source": [
    "## feature/biom table construction via DADA2 "
   ]
  },
  {
   "cell_type": "code",
   "execution_count": 21,
   "id": "93f1a914",
   "metadata": {},
   "outputs": [
    {
     "name": "stdout",
     "output_type": "stream",
     "text": [
      "\u001b[32mSaved FeatureTable[Frequency] to: table-MG-dada2.qza\u001b[0m\n",
      "\u001b[32mSaved FeatureData[Sequence] to: rep-seqs-MG-dada2.qza\u001b[0m\n",
      "\u001b[32mSaved SampleData[DADA2Stats] to: stats-MG-dada2.qza\u001b[0m\n",
      "\u001b[0m"
     ]
    }
   ],
   "source": [
    "! qiime dada2 denoise-single \\\n",
    "--i-demultiplexed-seqs demux_MG.qza \\\n",
    "--p-trim-left 15 \\\n",
    "--p-trunc-len 200 \\\n",
    "--p-n-threads 2 \\\n",
    "--o-representative-sequences rep-seqs-MG-dada2.qza \\\n",
    "--o-table table-MG-dada2.qza \\\n",
    "--o-denoising-stats stats-MG-dada2.qza\n"
   ]
  },
  {
   "cell_type": "code",
   "execution_count": 22,
   "id": "5e299464",
   "metadata": {},
   "outputs": [
    {
     "name": "stdout",
     "output_type": "stream",
     "text": [
      "\u001b[32mSaved Visualization to: stats-MG-dada2.qzv\u001b[0m\r\n",
      "\u001b[0m"
     ]
    }
   ],
   "source": [
    "! qiime metadata tabulate \\\n",
    "--m-input-file stats-MG-dada2.qza \\\n",
    "--o-visualization stats-MG-dada2.qzv"
   ]
  },
  {
   "cell_type": "code",
   "execution_count": 23,
   "id": "78c05ac4",
   "metadata": {},
   "outputs": [
    {
     "name": "stdout",
     "output_type": "stream",
     "text": [
      "Press the 'q' key, Control-C, or Control-D to quit. This view may no longer be accessible or work correctly after quitting.\n",
      "Press the 'q' key, Control-C, or Control-D to quit. This view may no longer be accessible or work correctly after quitting."
     ]
    }
   ],
   "source": [
    "! qiime tools view stats-MG-dada2.qzv"
   ]
  },
  {
   "cell_type": "code",
   "execution_count": 24,
   "id": "59794e9b",
   "metadata": {},
   "outputs": [],
   "source": [
    "!mv rep-seqs-MG-dada2.qza rep-seqs-MG.qza\n",
    "!mv table-MG-dada2.qza table-MG.qza"
   ]
  },
  {
   "cell_type": "code",
   "execution_count": 25,
   "id": "ff878a7c",
   "metadata": {},
   "outputs": [
    {
     "name": "stdout",
     "output_type": "stream",
     "text": [
      "\u001b[32mSaved Visualization to: rep-seqs-MG.qzv\u001b[0m\n",
      "\u001b[0m"
     ]
    }
   ],
   "source": [
    "## mapping of feature IDs to sequences, you can now put these into BLAST or PiCRUST2\n",
    "! qiime feature-table tabulate-seqs \\\n",
    "--i-data rep-seqs-MG.qza \\\n",
    "--o-visualization rep-seqs-MG.qzv"
   ]
  },
  {
   "cell_type": "code",
   "execution_count": 28,
   "id": "d08d4ed3",
   "metadata": {},
   "outputs": [
    {
     "name": "stdout",
     "output_type": "stream",
     "text": [
      "\u001b[32mSaved Visualization to: table-MG.qzv\u001b[0m\n",
      "\u001b[0m"
     ]
    }
   ],
   "source": [
    "## visual summarization of feature table \n",
    "! qiime feature-table summarize \\\n",
    "--i-table table-MG.qza \\\n",
    "--o-visualization table-MG.qzv \\\n",
    "--m-sample-metadata-file /Users/madiapgar/Desktop/qiimework/MG-barcode.txt"
   ]
  },
  {
   "cell_type": "code",
   "execution_count": 1,
   "id": "b4f34528",
   "metadata": {},
   "outputs": [
    {
     "name": "stdout",
     "output_type": "stream",
     "text": [
      "Press the 'q' key, Control-C, or Control-D to quit. This view may no longer be accessible or work correctly after quitting.\n",
      "Press the 'q' key, Control-C, or Control-D to quit. This view may no longer be accessible or work correctly after quitting."
     ]
    }
   ],
   "source": [
    "! qiime tools view table-MG.qzv"
   ]
  },
  {
   "cell_type": "code",
   "execution_count": 30,
   "id": "e9bd7cfc",
   "metadata": {},
   "outputs": [
    {
     "name": "stdout",
     "output_type": "stream",
     "text": [
      "Press the 'q' key, Control-C, or Control-D to quit. This view may no longer be accessible or work correctly after quitting.\n",
      "Press the 'q' key, Control-C, or Control-D to quit. This view may no longer be accessible or work correctly after quitting."
     ]
    }
   ],
   "source": [
    "! qiime tools view rep-seqs-MG.qzv"
   ]
  },
  {
   "cell_type": "markdown",
   "id": "0d066e0a",
   "metadata": {},
   "source": [
    "## filtering my feature table for a contaminated sample MG.73A and MG.73B \n",
    "## will be using actable-MG.qza from now on as my feature table!"
   ]
  },
  {
   "cell_type": "code",
   "execution_count": 3,
   "id": "af38c537",
   "metadata": {},
   "outputs": [
    {
     "name": "stdout",
     "output_type": "stream",
     "text": [
      "\u001b[32mSaved FeatureTable[Frequency] to: actable-MG.qza\u001b[0m\r\n",
      "\u001b[0m"
     ]
    }
   ],
   "source": [
    "## doing this via identifier-based filtering and only on my feature table and not my rep-seqs \n",
    "## need to generate a new metadata file that doesn't include the sample ID i want to filter out - this only has to \n",
    "## contain the sample ID column of the metadata table \n",
    "! qiime feature-table filter-samples \\\n",
    "--i-table table-MG.qza \\\n",
    "--m-metadata-file /Users/madiapgar/Desktop/qiimework/kept-samples-MG.txt \\\n",
    "--o-filtered-table actable-MG.qza"
   ]
  },
  {
   "cell_type": "markdown",
   "id": "9687e11e",
   "metadata": {},
   "source": [
    "## below are additional steps not included in the tutorial that the lab uses for data sets\n",
    "## building the phylogenic tree via sepp "
   ]
  },
  {
   "cell_type": "code",
   "execution_count": 4,
   "id": "13d51ff9",
   "metadata": {},
   "outputs": [
    {
     "name": "stdout",
     "output_type": "stream",
     "text": [
      "\u001b[32mSaved Phylogeny[Rooted] to: tree-MG.qza\u001b[0m\n",
      "\u001b[32mSaved Placements to: placements-MG.qza\u001b[0m\n",
      "\u001b[0m"
     ]
    }
   ],
   "source": [
    "## last line denotes the silva 128 reference database that is used to construct the phylogenic tree \n",
    "! qiime fragment-insertion sepp \\\n",
    "--i-representative-sequences rep-seqs-MG.qza \\\n",
    "--o-tree tree-MG.qza \\\n",
    "--o-placements placements-MG.qza \\\n",
    "--i-reference-database /Users/madiapgar/Desktop/qiimework/sepp-refs-silva-128.qza"
   ]
  },
  {
   "cell_type": "code",
   "execution_count": 2,
   "id": "dedfdbdb",
   "metadata": {},
   "outputs": [
    {
     "name": "stdout",
     "output_type": "stream",
     "text": [
      "\u001b[32mSaved FeatureTable[Frequency] to: filtered-table-MG.qza\u001b[0m\n",
      "\u001b[32mSaved FeatureTable[Frequency] to: removed-table-MG.qza\u001b[0m\n",
      "\u001b[0m"
     ]
    }
   ],
   "source": [
    "## filtering of sepp phylogenic tree via feature table files to only include relevant ASVs\n",
    "## this is the first step of filtering is based on what was put into the tree and what wasn't\n",
    "## remember you need to use your filtered table that you generated above for this!\n",
    "! qiime fragment-insertion filter-features \\\n",
    "--i-table actable-MG.qza \\\n",
    "--i-tree tree-MG.qza \\\n",
    "--o-filtered-table filtered-table-MG.qza \\\n",
    "--o-removed-table removed-table-MG.qza"
   ]
  },
  {
   "cell_type": "markdown",
   "id": "5d906e52",
   "metadata": {},
   "source": [
    "## taxonomic classification and filtering additional steps \n",
    "## this comes before alpha and beta diversity analysis"
   ]
  },
  {
   "cell_type": "code",
   "execution_count": 4,
   "id": "ca3d4d3a",
   "metadata": {},
   "outputs": [
    {
     "name": "stdout",
     "output_type": "stream",
     "text": [
      "\u001b[32mSaved FeatureData[Taxonomy] to: taxonomy-MG.qza\u001b[0m\n",
      "\u001b[0m"
     ]
    }
   ],
   "source": [
    "## doing taxonomic classification before alpha and beta diversity analysis, also includes an extra step to filter\n",
    "## table based on taxonomic classification \n",
    "## classifier is pulled from the silva database and can be found under data resources on the qiime website\n",
    "## your classifier needs to be up to date with the qiime version you're running or else it won't work\n",
    "! qiime feature-classifier classify-sklearn \\\n",
    "--i-classifier /Users/madiapgar/Desktop/qiimework/silva-138-99-515-806-nb-classifier.qza \\\n",
    "--i-reads rep-seqs-MG.qza \\\n",
    "--o-classification taxonomy-MG.qza"
   ]
  },
  {
   "cell_type": "code",
   "execution_count": 5,
   "id": "ceb3826f",
   "metadata": {},
   "outputs": [
    {
     "name": "stdout",
     "output_type": "stream",
     "text": [
      "\u001b[32mSaved Visualization to: taxonomy-MG.qzv\u001b[0m\r\n",
      "\u001b[0m"
     ]
    }
   ],
   "source": [
    "! qiime metadata tabulate \\\n",
    "--m-input-file taxonomy-MG.qza \\\n",
    "--o-visualization taxonomy-MG.qzv"
   ]
  },
  {
   "cell_type": "code",
   "execution_count": 6,
   "id": "4f924110",
   "metadata": {},
   "outputs": [
    {
     "name": "stdout",
     "output_type": "stream",
     "text": [
      "Press the 'q' key, Control-C, or Control-D to quit. This view may no longer be accessible or work correctly after quitting.\n",
      "Press the 'q' key, Control-C, or Control-D to quit. This view may no longer be accessible or work correctly after quitting."
     ]
    }
   ],
   "source": [
    "! qiime tools view taxonomy-MG.qzv"
   ]
  },
  {
   "cell_type": "code",
   "execution_count": 7,
   "id": "5b27a7bc",
   "metadata": {},
   "outputs": [
    {
     "name": "stdout",
     "output_type": "stream",
     "text": [
      "\u001b[32mSaved FeatureTable[Frequency] to: tax-filtered-MG.qza\u001b[0m\n",
      "\u001b[0m"
     ]
    }
   ],
   "source": [
    "## filtering my taxonomic table \n",
    "! qiime taxa filter-table \\\n",
    "--i-table filtered-table-MG.qza \\\n",
    "--i-taxonomy taxonomy-MG.qza \\\n",
    "--p-include p_ \\\n",
    "--p-exclude mitochondria,chloroplast \\\n",
    "--o-filtered-table tax-filtered-MG.qza"
   ]
  },
  {
   "cell_type": "code",
   "execution_count": 8,
   "id": "e0bd47dd",
   "metadata": {},
   "outputs": [
    {
     "name": "stdout",
     "output_type": "stream",
     "text": [
      "\u001b[32mSaved Visualization to: tax-filtered-MG.qzv\u001b[0m\n",
      "\u001b[0m"
     ]
    }
   ],
   "source": [
    "## i'm creating a visualization for my taxonomic filtered table and I will be able to use that table for my alpha/beta\n",
    "## diversity aanlysis and building my taxa bar chart \n",
    "! qiime feature-table summarize \\\n",
    "--i-table tax-filtered-MG.qza \\\n",
    "--o-visualization tax-filtered-MG.qzv"
   ]
  },
  {
   "cell_type": "code",
   "execution_count": 12,
   "id": "5b0e5da6",
   "metadata": {},
   "outputs": [
    {
     "name": "stdout",
     "output_type": "stream",
     "text": [
      "Press the 'q' key, Control-C, or Control-D to quit. This view may no longer be accessible or work correctly after quitting.\n",
      "Press the 'q' key, Control-C, or Control-D to quit. This view may no longer be accessible or work correctly after quitting."
     ]
    }
   ],
   "source": [
    "! qiime tools view tax-filtered-MG.qzv"
   ]
  },
  {
   "cell_type": "markdown",
   "id": "5284890e",
   "metadata": {},
   "source": [
    "## diversity analysis - rareifying data and normalizing sample read numbers prior to alpha/beta diversity \n"
   ]
  },
  {
   "cell_type": "code",
   "execution_count": 2,
   "id": "c634e74f",
   "metadata": {},
   "outputs": [
    {
     "name": "stdout",
     "output_type": "stream",
     "text": [
      "\u001b[32mSaved FeatureTable[Frequency] to: core-metrics-corrected-MG/rarefied_table.qza\u001b[0m\n",
      "\u001b[32mSaved SampleData[AlphaDiversity] to: core-metrics-corrected-MG/faith_pd_vector.qza\u001b[0m\n",
      "\u001b[32mSaved SampleData[AlphaDiversity] to: core-metrics-corrected-MG/observed_features_vector.qza\u001b[0m\n",
      "\u001b[32mSaved SampleData[AlphaDiversity] to: core-metrics-corrected-MG/shannon_vector.qza\u001b[0m\n",
      "\u001b[32mSaved SampleData[AlphaDiversity] to: core-metrics-corrected-MG/evenness_vector.qza\u001b[0m\n",
      "\u001b[32mSaved DistanceMatrix to: core-metrics-corrected-MG/unweighted_unifrac_distance_matrix.qza\u001b[0m\n",
      "\u001b[32mSaved DistanceMatrix to: core-metrics-corrected-MG/weighted_unifrac_distance_matrix.qza\u001b[0m\n",
      "\u001b[32mSaved DistanceMatrix to: core-metrics-corrected-MG/jaccard_distance_matrix.qza\u001b[0m\n",
      "\u001b[32mSaved DistanceMatrix to: core-metrics-corrected-MG/bray_curtis_distance_matrix.qza\u001b[0m\n",
      "\u001b[32mSaved PCoAResults to: core-metrics-corrected-MG/unweighted_unifrac_pcoa_results.qza\u001b[0m\n",
      "\u001b[32mSaved PCoAResults to: core-metrics-corrected-MG/weighted_unifrac_pcoa_results.qza\u001b[0m\n",
      "\u001b[32mSaved PCoAResults to: core-metrics-corrected-MG/jaccard_pcoa_results.qza\u001b[0m\n",
      "\u001b[32mSaved PCoAResults to: core-metrics-corrected-MG/bray_curtis_pcoa_results.qza\u001b[0m\n",
      "\u001b[32mSaved Visualization to: core-metrics-corrected-MG/unweighted_unifrac_emperor.qzv\u001b[0m\n",
      "\u001b[32mSaved Visualization to: core-metrics-corrected-MG/weighted_unifrac_emperor.qzv\u001b[0m\n",
      "\u001b[32mSaved Visualization to: core-metrics-corrected-MG/jaccard_emperor.qzv\u001b[0m\n",
      "\u001b[32mSaved Visualization to: core-metrics-corrected-MG/bray_curtis_emperor.qzv\u001b[0m\n",
      "\u001b[0m"
     ]
    }
   ],
   "source": [
    "## pull out taxa barplot, faithpd, weighted and unweighted unifrac emperor plots for a presentation to show the\n",
    "## collaboraters \n",
    "! qiime diversity core-metrics-phylogenetic \\\n",
    "--i-phylogeny tree-MG.qza \\\n",
    "--i-table tax-filtered-MG.qza \\\n",
    "--p-sampling-depth 28231 \\\n",
    "--m-metadata-file /Users/madiapgar/Desktop/qiimework/MG-metadata.txt \\\n",
    "--output-dir core-metrics-corrected-MG"
   ]
  },
  {
   "cell_type": "markdown",
   "id": "66837cb6",
   "metadata": {},
   "source": [
    "## alpha diversity community richness (looks at the phylogenetic relationships between samples) "
   ]
  },
  {
   "cell_type": "code",
   "execution_count": 3,
   "id": "cba2a411",
   "metadata": {},
   "outputs": [
    {
     "name": "stdout",
     "output_type": "stream",
     "text": [
      "\u001b[32mSaved Visualization to: core-metrics-corrected-MG/faith-pd-MG.qzv\u001b[0m\n",
      "\u001b[0m"
     ]
    }
   ],
   "source": [
    "## so apparently it works to edit the same metadata file used in the core diversity (above) and rerun further analyses \n",
    "! qiime diversity alpha-group-significance \\\n",
    "--i-alpha-diversity core-metrics-corrected-MG/faith_pd_vector.qza \\\n",
    "--m-metadata-file /Users/madiapgar/Desktop/qiimework/MG-metadata.txt \\\n",
    "--o-visualization core-metrics-corrected-MG/faith-pd-MG.qzv"
   ]
  },
  {
   "cell_type": "markdown",
   "id": "bc691352",
   "metadata": {},
   "source": [
    "## alpha diversity community evenness (what are proportions of species in the samples and how are they related to each other?) "
   ]
  },
  {
   "cell_type": "code",
   "execution_count": 5,
   "id": "c01b015c",
   "metadata": {},
   "outputs": [
    {
     "name": "stdout",
     "output_type": "stream",
     "text": [
      "\u001b[32mSaved Visualization to: core-metrics-corrected-MG/evenness-MG.qzv\u001b[0m\n",
      "\u001b[0m"
     ]
    }
   ],
   "source": [
    "! qiime diversity alpha-group-significance \\\n",
    "--i-alpha-diversity core-metrics-corrected-MG/evenness_vector.qza \\\n",
    "--m-metadata-file /Users/madiapgar/Desktop/qiimework/MG-metadata.txt \\\n",
    "--o-visualization core-metrics-corrected-MG/evenness-MG.qzv"
   ]
  },
  {
   "cell_type": "markdown",
   "id": "c197637a",
   "metadata": {},
   "source": [
    "## beta diversity analysis based on mouse sex (male or female) "
   ]
  },
  {
   "cell_type": "code",
   "execution_count": 5,
   "id": "8e0f96a7",
   "metadata": {},
   "outputs": [
    {
     "name": "stdout",
     "output_type": "stream",
     "text": [
      "\u001b[32mSaved Visualization to: core-metrics-corrected-MG/unweighted-unifrac-sex.qzv\u001b[0m\n",
      "\u001b[0m"
     ]
    }
   ],
   "source": [
    "! qiime diversity beta-group-significance \\\n",
    "--i-distance-matrix core-metrics-corrected-MG/unweighted_unifrac_distance_matrix.qza \\\n",
    "--m-metadata-file /Users/madiapgar/Desktop/qiimework/MG-metadata.txt \\\n",
    "--m-metadata-column sex \\\n",
    "--o-visualization core-metrics-corrected-MG/unweighted-unifrac-sex.qzv \\\n",
    "--p-pairwise"
   ]
  },
  {
   "cell_type": "markdown",
   "id": "2a1e2f2a",
   "metadata": {},
   "source": [
    "## beta diversity analysis based on mouse age (this is the most important one) "
   ]
  },
  {
   "cell_type": "code",
   "execution_count": 1,
   "id": "a663593d",
   "metadata": {},
   "outputs": [
    {
     "name": "stdout",
     "output_type": "stream",
     "text": [
      "\u001b[32mSaved Visualization to: core-metrics-corrected-MG/unweighted-unifrac-age.qzv\u001b[0m\n",
      "\u001b[0m"
     ]
    }
   ],
   "source": [
    "## this doesn't work bc age needs to be numerical and it's trying to treat it as categorical\n",
    "## use MG-barcode.txt if you want to redo this output but its not needed \n",
    "! qiime diversity beta-group-significance \\\n",
    "--i-distance-matrix core-metrics-corrected-MG/unweighted_unifrac_distance_matrix.qza \\\n",
    "--m-metadata-file /Users/madiapgar/Desktop/qiimework/MG-metadata.txt \\\n",
    "--m-metadata-column age \\\n",
    "--o-visualization core-metrics-corrected-MG/unweighted-unifrac-age.qzv \\\n",
    "--p-pairwise"
   ]
  },
  {
   "cell_type": "markdown",
   "id": "e6728b68",
   "metadata": {},
   "source": [
    "## beta diversity ordination (how samples changed over time based on age 7-14 days old) "
   ]
  },
  {
   "cell_type": "code",
   "execution_count": 7,
   "id": "89de261f",
   "metadata": {},
   "outputs": [
    {
     "name": "stdout",
     "output_type": "stream",
     "text": [
      "\u001b[32mSaved Visualization to: core-metrics-corrected-MG/unweighted-unifrac-emperor-age.qzv\u001b[0m\n",
      "\u001b[0m\u001b[32mSaved Visualization to: core-metrics-corrected-MG/bray-curtis-emperor-age.qzv\u001b[0m\n",
      "\u001b[0m"
     ]
    }
   ],
   "source": [
    "! qiime emperor plot \\\n",
    "--i-pcoa core-metrics-corrected-MG/unweighted_unifrac_pcoa_results.qza \\\n",
    "--m-metadata-file /Users/madiapgar/Desktop/qiimework/MG-metadata.txt \\\n",
    "--p-custom-axes age \\\n",
    "--o-visualization core-metrics-corrected-MG/unweighted-unifrac-emperor-age.qzv\n",
    "\n",
    "! qiime emperor plot \\\n",
    "--i-pcoa core-metrics-corrected-MG/bray_curtis_pcoa_results.qza \\\n",
    "--m-metadata-file /Users/madiapgar/Desktop/qiimework/MG-metadata.txt \\\n",
    "--p-custom-axes age \\\n",
    "--o-visualization core-metrics-corrected-MG/bray-curtis-emperor-age.qzv"
   ]
  },
  {
   "cell_type": "markdown",
   "id": "7635c4cc",
   "metadata": {},
   "source": [
    "## alpha rarefaction plotting (alpha diversity metrics at multiple sampling depths)"
   ]
  },
  {
   "cell_type": "code",
   "execution_count": 13,
   "id": "4d72d2f4",
   "metadata": {},
   "outputs": [
    {
     "name": "stdout",
     "output_type": "stream",
     "text": [
      "\u001b[32mSaved Visualization to: alpha-rarefaction-MG.qzv\u001b[0m\n",
      "\u001b[0m"
     ]
    }
   ],
   "source": [
    "## used median frequency of samples for p-max-depth \n",
    "## this one did not need to be corrected\n",
    "! qiime diversity alpha-rarefaction \\\n",
    "--i-table tax-filtered-MG.qza \\\n",
    "--i-phylogeny tree-MG.qza \\\n",
    "--p-max-depth 57654 \\\n",
    "--m-metadata-file /Users/madiapgar/Desktop/qiimework/MG-metadata.txt \\\n",
    "--o-visualization alpha-rarefaction-MG.qzv"
   ]
  },
  {
   "cell_type": "markdown",
   "id": "524d8f6b",
   "metadata": {},
   "source": [
    "## taxonomic bar plots!"
   ]
  },
  {
   "cell_type": "code",
   "execution_count": 14,
   "id": "6fc5a4cd",
   "metadata": {},
   "outputs": [
    {
     "name": "stdout",
     "output_type": "stream",
     "text": [
      "\u001b[32mSaved Visualization to: taxa-barplots-MG.qzv\u001b[0m\n",
      "\u001b[0m"
     ]
    }
   ],
   "source": [
    "## this one did not need to be corrected\n",
    "! qiime taxa barplot \\\n",
    "--i-table tax-filtered-MG.qza \\\n",
    "--i-taxonomy taxonomy-MG.qza \\\n",
    "--m-metadata-file /Users/madiapgar/Desktop/qiimework/MG-metadata.txt \\\n",
    "--o-visualization taxa-barplots-MG.qzv"
   ]
  },
  {
   "cell_type": "code",
   "execution_count": 2,
   "id": "d730323c",
   "metadata": {},
   "outputs": [
    {
     "name": "stdout",
     "output_type": "stream",
     "text": [
      "Press the 'q' key, Control-C, or Control-D to quit. This view may no longer be accessible or work correctly after quitting.\n",
      "Press the 'q' key, Control-C, or Control-D to quit. This view may no longer be accessible or work correctly after quitting."
     ]
    }
   ],
   "source": [
    "## taxa barplots (these are the most interesting)\n",
    "! qiime tools view taxa-barplots-MG.qzv"
   ]
  },
  {
   "cell_type": "code",
   "execution_count": 16,
   "id": "20bc9f43",
   "metadata": {},
   "outputs": [
    {
     "name": "stdout",
     "output_type": "stream",
     "text": [
      "Press the 'q' key, Control-C, or Control-D to quit. This view may no longer be accessible or work correctly after quitting.\n",
      "Press the 'q' key, Control-C, or Control-D to quit. This view may no longer be accessible or work correctly after quitting."
     ]
    }
   ],
   "source": [
    "## alpha rarefaction based on mouse sex (couldn't do age bc wasn't categorical)\n",
    "! qiime tools view alpha-rarefaction-MG.qzv"
   ]
  },
  {
   "cell_type": "code",
   "execution_count": 1,
   "id": "576615a5",
   "metadata": {},
   "outputs": [
    {
     "name": "stdout",
     "output_type": "stream",
     "text": [
      "Press the 'q' key, Control-C, or Control-D to quit. This view may no longer be accessible or work correctly after quitting.\n",
      "Press the 'q' key, Control-C, or Control-D to quit. This view may no longer be accessible or work correctly after quitting."
     ]
    }
   ],
   "source": [
    "## unweighted emperor plot based on age \n",
    "## this is updated\n",
    "! qiime tools view core-metrics-corrected-MG/unweighted-unifrac-emperor-age.qzv"
   ]
  },
  {
   "cell_type": "code",
   "execution_count": 4,
   "id": "d00130c6",
   "metadata": {},
   "outputs": [
    {
     "name": "stdout",
     "output_type": "stream",
     "text": [
      "Press the 'q' key, Control-C, or Control-D to quit. This view may no longer be accessible or work correctly after quitting.\n",
      "Press the 'q' key, Control-C, or Control-D to quit. This view may no longer be accessible or work correctly after quitting."
     ]
    }
   ],
   "source": [
    "## weighted emperor plot based on age\n",
    "## this is updated \n",
    "! qiime tools view core-metrics-corrected-MG/bray-curtis-emperor-age.qzv"
   ]
  },
  {
   "cell_type": "code",
   "execution_count": 7,
   "id": "34343a55",
   "metadata": {},
   "outputs": [
    {
     "name": "stdout",
     "output_type": "stream",
     "text": [
      "Press the 'q' key, Control-C, or Control-D to quit. This view may no longer be accessible or work correctly after quitting.\n",
      "Press the 'q' key, Control-C, or Control-D to quit. This view may no longer be accessible or work correctly after quitting."
     ]
    }
   ],
   "source": [
    "## alpha diversity richness\n",
    "## this is updated\n",
    "! qiime tools view core-metrics-corrected-MG/faith-pd-MG.qzv"
   ]
  },
  {
   "cell_type": "code",
   "execution_count": 6,
   "id": "04829dde",
   "metadata": {},
   "outputs": [
    {
     "name": "stdout",
     "output_type": "stream",
     "text": [
      "Press the 'q' key, Control-C, or Control-D to quit. This view may no longer be accessible or work correctly after quitting.\n",
      "Press the 'q' key, Control-C, or Control-D to quit. This view may no longer be accessible or work correctly after quitting."
     ]
    }
   ],
   "source": [
    "## alpha diversity evenness\n",
    "## this is updated\n",
    "! qiime tools view core-metrics-corrected-MG/evenness-MG.qzv"
   ]
  },
  {
   "cell_type": "code",
   "execution_count": 8,
   "id": "60818ce9",
   "metadata": {},
   "outputs": [
    {
     "name": "stdout",
     "output_type": "stream",
     "text": [
      "Press the 'q' key, Control-C, or Control-D to quit. This view may no longer be accessible or work correctly after quitting.\n",
      "Press the 'q' key, Control-C, or Control-D to quit. This view may no longer be accessible or work correctly after quitting."
     ]
    }
   ],
   "source": [
    "## regular weighted emperor plot (corrected)\n",
    "! qiime tools view core-metrics-corrected-MG/weighted_unifrac_emperor.qzv"
   ]
  },
  {
   "cell_type": "code",
   "execution_count": 9,
   "id": "5f419eae",
   "metadata": {},
   "outputs": [
    {
     "name": "stdout",
     "output_type": "stream",
     "text": [
      "Press the 'q' key, Control-C, or Control-D to quit. This view may no longer be accessible or work correctly after quitting.\n",
      "Press the 'q' key, Control-C, or Control-D to quit. This view may no longer be accessible or work correctly after quitting."
     ]
    }
   ],
   "source": [
    "## regular unweighted emperor plot (corrected)\n",
    "! qiime tools view core-metrics-corrected-MG/unweighted_unifrac_emperor.qzv"
   ]
  },
  {
   "cell_type": "code",
   "execution_count": 2,
   "id": "b2ca6b4f",
   "metadata": {},
   "outputs": [
    {
     "name": "stdout",
     "output_type": "stream",
     "text": [
      "Press the 'q' key, Control-C, or Control-D to quit. This view may no longer be accessible or work correctly after quitting.\n",
      "Press the 'q' key, Control-C, or Control-D to quit. This view may no longer be accessible or work correctly after quitting."
     ]
    }
   ],
   "source": [
    "## beta group significance graph \n",
    "! qiime tools view core-metrics-MG/unweighted-unifrac-age-sig.qzv"
   ]
  },
  {
   "attachments": {},
   "cell_type": "markdown",
   "id": "64944d11",
   "metadata": {},
   "source": [
    "## converting my biom table to .biom format and my rep-seqs to fasta format so I can put them in PiCRUST2"
   ]
  },
  {
   "cell_type": "code",
   "execution_count": 2,
   "id": "7ef07677",
   "metadata": {},
   "outputs": [
    {
     "name": "stdout",
     "output_type": "stream",
     "text": [
      "\u001b[32mExported actable-MG.qza as BIOMV210DirFmt to directory picrust\u001b[0m\n",
      "\u001b[0m\u001b[32mExported rep-seqs-MG.qza as DNASequencesDirectoryFormat to directory picrust\u001b[0m\n",
      "\u001b[0m"
     ]
    }
   ],
   "source": [
    "! qiime tools export \\\n",
    "    --input-path actable-MG.qza \\\n",
    "    --output-path picrust\n",
    "\n",
    "! qiime tools export \\\n",
    "    --input-path rep-seqs-MG.qza \\\n",
    "    --output-path picrust"
   ]
  }
 ],
 "metadata": {
  "kernelspec": {
   "display_name": "Python 3 (ipykernel)",
   "language": "python",
   "name": "python3"
  },
  "language_info": {
   "codemirror_mode": {
    "name": "ipython",
    "version": 3
   },
   "file_extension": ".py",
   "mimetype": "text/x-python",
   "name": "python",
   "nbconvert_exporter": "python",
   "pygments_lexer": "ipython3",
   "version": "3.8.15"
  }
 },
 "nbformat": 4,
 "nbformat_minor": 5
}
